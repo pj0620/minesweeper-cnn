{
  "nbformat": 4,
  "nbformat_minor": 0,
  "metadata": {
    "colab": {
      "provenance": [],
      "authorship_tag": "ABX9TyPbNE/luoeQbZHou185qNTT",
      "include_colab_link": true
    },
    "kernelspec": {
      "name": "python3",
      "display_name": "Python 3"
    },
    "language_info": {
      "name": "python"
    }
  },
  "cells": [
    {
      "cell_type": "markdown",
      "metadata": {
        "id": "view-in-github",
        "colab_type": "text"
      },
      "source": [
        "<a href=\"https://colab.research.google.com/github/pj0620/minesweeper-cnn/blob/main/generate_minesweeper_data.ipynb\" target=\"_parent\"><img src=\"https://colab.research.google.com/assets/colab-badge.svg\" alt=\"Open In Colab\"/></a>"
      ]
    },
    {
      "cell_type": "code",
      "source": [
        "import random\n",
        "from typing import Callable, Any\n",
        "\n",
        "import numpy as np\n",
        "from scipy.signal import convolve2d\n",
        "import matplotlib.pyplot as plt"
      ],
      "metadata": {
        "id": "n_JSZ8FH9bIa"
      },
      "execution_count": 91,
      "outputs": []
    },
    {
      "cell_type": "markdown",
      "source": [
        "# Define game object"
      ],
      "metadata": {
        "id": "oNaoc9e-9TFt"
      }
    },
    {
      "cell_type": "code",
      "execution_count": 148,
      "metadata": {
        "id": "VV_3LLVP8LeL"
      },
      "outputs": [],
      "source": [
        "class Game:\n",
        "    def __init__(self, N=10, n_bombs=10, seed=None):\n",
        "        self.N = N\n",
        "        self.n_bombs = n_bombs\n",
        "\n",
        "        # convert the following to use numpy arrays\n",
        "        self.bomb = np.zeros((N, N), dtype=np.int16)\n",
        "        self.known = np.zeros((N, N), dtype=np.int16)\n",
        "\n",
        "        self.gaussian_kernal = np.ones((3, 3))\n",
        "\n",
        "        # assert that there are no more bombs than there are cells\n",
        "        assert n_bombs <= N * N\n",
        "\n",
        "        if seed is not None:\n",
        "            random.seed(seed)\n",
        "\n",
        "        placed = 0\n",
        "        while placed < n_bombs:\n",
        "            x = random.randint(0, N - 1)\n",
        "            y = random.randint(0, N - 1)\n",
        "\n",
        "            if self.bomb[x][y] == 0:\n",
        "                self.bomb[x][y] = 1\n",
        "                placed += 1\n",
        "\n",
        "        self.values = self.compute_values()\n",
        "\n",
        "    def compute_values(self):\n",
        "        return convolve2d(self.bomb, self.gaussian_kernal, mode='same').astype(np.int16)\n",
        "\n",
        "    # input: ch0 -> known values, ch1 known locations\n",
        "    # output: ch0 -> guessable bombs\n",
        "    def get_input_output_representation(self):\n",
        "        guessable_mask = convolve2d(self.known, self.gaussian_kernal, mode='same').astype(float)\n",
        "\n",
        "        # throw out cells we know\n",
        "        guessable_mask *= 1.0 - self.known.astype(float)\n",
        "\n",
        "        # round up all values > 0 to 1\n",
        "        self.guessable_mask = np.where(guessable_mask > 0, 1, guessable_mask).astype(np.int16)\n",
        "\n",
        "        # get all bombs in knowable area\n",
        "        guessable_bombs = self.bomb * self.guessable_mask\n",
        "\n",
        "        return np.dstack((self.known * self.values, self.known)), guessable_bombs\n",
        "\n",
        "    # ** must be called after get_input_output_representation **\n",
        "    # clicks safe spot in guessable region\n",
        "    # returns True -> game over, False -> game not over\n",
        "    def safe_next_click(self):\n",
        "        clicked = False\n",
        "        for x in range(0, N-1):\n",
        "          for y in range(0, N-1):\n",
        "            if int(self.guessable_mask[x][y]) == 0:\n",
        "              continue\n",
        "            if self.bomb[x][y] == 0:\n",
        "              g.click(x, y)\n",
        "              return False\n",
        "        return True\n",
        "\n",
        "    def click(self, x, y):\n",
        "        # print you lost in red text if user clicked a bomb\n",
        "        if self.bomb[x][y] == 1:\n",
        "            print(\"\\033[31mYou lost!\\033[0m\")\n",
        "            return True\n",
        "\n",
        "        # # propagate click according to rules of minesweeper\n",
        "        self.propagate_click(x, y)\n",
        "\n",
        "        return False\n",
        "\n",
        "    def propagate_click(self, x, y):\n",
        "        if x < 0 or x >= self.N:\n",
        "            return\n",
        "        if y < 0 or y >= self.N:\n",
        "            return\n",
        "\n",
        "        # if the cell is already known, do nothing\n",
        "        if self.known[x][y] == 1:\n",
        "            return\n",
        "        self.known[x][y] = 1\n",
        "\n",
        "        # if the cell is known to be safe, propagate click\n",
        "        if self.values[x][y] == 0:\n",
        "            for i in range(-1, 2):\n",
        "                for j in range(-1, 2):\n",
        "                    if i == 0 and j == 0:\n",
        "                        continue\n",
        "                    self.propagate_click(x + i, y + j)\n",
        "\n",
        "\n",
        "    def print_bombs(self):\n",
        "        self.print_board_values('BOMBS', lambda x, y: f'{self.bomb[x][y]} ')\n",
        "\n",
        "    def print_known(self):\n",
        "        self.print_board_values('KNOWN', lambda x, y: f'{self.known[x][y]} ')\n",
        "\n",
        "    def print_values(self):\n",
        "        self.print_board_values('VALUES', lambda x, y: f'{self.values[x][y]} ')\n",
        "\n",
        "    def print_board(self, marker=None, flags=None):\n",
        "        def print_value(x, y):\n",
        "            if (marker is not None) and (marker == (x, y)):\n",
        "                return f\"\\033[32;5m📍\\033[0m\"\n",
        "            elif (flags is not None) and ((x, y) in flags):\n",
        "                return '🚩'\n",
        "            elif self.known[x][y] == 0:\n",
        "                return '🟩'\n",
        "            elif self.values[x][y] > 0:\n",
        "                return str(int(self.values[x][y])) + ' '\n",
        "            else:\n",
        "                return '  '\n",
        "\n",
        "        self.print_board_values('BOARD', print_value)\n",
        "\n",
        "    def print_board_values(self, title: str, operation: Callable[[int, int], Any]) -> None:\n",
        "        title_space = f' {title} '\n",
        "        print(\"#\" * (self.N - len(title_space) // 2) + title_space + \"#\" * (self.N - len(title_space) // 2))\n",
        "        for x in range(self.N):\n",
        "            for y in range(self.N):\n",
        "                print(operation(x, y), end=\"\")\n",
        "            print(\"|\")"
      ]
    },
    {
      "cell_type": "markdown",
      "source": [
        "# Play interactive game\n",
        "Optional"
      ],
      "metadata": {
        "id": "Nu94c0OW9pJg"
      }
    },
    {
      "cell_type": "code",
      "source": [
        "N = 10\n",
        "g = Game(N=N)\n",
        "marker = (0, 0)\n",
        "flags = set()\n",
        "\n",
        "lost = False\n",
        "while not lost:\n",
        "    g.print_board(marker=marker, flags=flags)\n",
        "    move = input(\"Enter your move(l,r,d,u to move / c to click / f,r to flag): \")\n",
        "    for move_k in move.strip():\n",
        "        if move_k == 'u':\n",
        "            marker = (max(marker[0]-1, 0), marker[1])\n",
        "        elif move_k == 'd':\n",
        "            marker = (min(marker[0]+1, N-1), marker[1])\n",
        "        elif move_k == 'l':\n",
        "            marker = (marker[0], max(marker[1]-1, 0))\n",
        "        elif move_k == 'r':\n",
        "            marker = (marker[0], min(marker[1]+1, N-1))\n",
        "\n",
        "        elif move_k == 'c':\n",
        "            lost = g.click(marker[0], marker[1])\n",
        "\n",
        "        elif move_k == 'f':\n",
        "            flags.add(marker)\n",
        "        elif move_k == 'r':\n",
        "            flags.remove(marker)\n"
      ],
      "metadata": {
        "id": "_BhocdNP9sHd"
      },
      "execution_count": null,
      "outputs": []
    },
    {
      "cell_type": "markdown",
      "source": [
        "# finding guessable mask + guessable bombs\n",
        "\n",
        "### Input\n",
        "channel 0: g.known * g.values\n",
        "\n",
        "channel 1: g.known\n",
        "\n",
        "### Output:\n",
        "channel 0: g.bomb * guessable_mask"
      ],
      "metadata": {
        "id": "36chwJWa-D0x"
      }
    },
    {
      "cell_type": "code",
      "source": [
        "N = 20\n",
        "g = Game(N=N, n_bombs=25, seed = 2252)\n",
        "g.click(5,5)\n",
        "g.print_board()\n",
        "print('')\n",
        "\n",
        "plt.figure(figsize=(8, 4))\n",
        "\n",
        "plt.subplot(1, 2, 1)\n",
        "plt.imshow(1 - g.known, cmap='gray')\n",
        "\n",
        "kernal = np.array([\n",
        "    [1, 1, 1, ],\n",
        "    [1, 1, 1, ],\n",
        "    [1, 1, 1, ],\n",
        "])\n",
        "\n",
        "guessable_mask = convolve2d(g.known, kernal, mode='same').astype(float)\n",
        "\n",
        "# throw out cells we know\n",
        "guessable_mask *= 1.0 - g.known.astype(float)\n",
        "\n",
        "# round up all values > 0 to 1\n",
        "guessable_mask = np.where(guessable_mask > 0, 1, guessable_mask).astype(np.int16)\n",
        "\n",
        "# get all bombs in knowable area\n",
        "guessable_bombs = g.bomb * guessable_mask\n",
        "\n",
        "plt.subplot(1, 2, 2)\n",
        "plt.imshow(1-guessable_mask, cmap='gray')\n",
        "plt.show()\n",
        "\n",
        "should_break = False\n",
        "for x in range(0, N-1):\n",
        "  if should_break:\n",
        "    break\n",
        "  for y in range(0, N-1):\n",
        "    if int(guessable_mask[x][y]) == 0:\n",
        "      continue\n",
        "    if g.bomb[x][y] == 0:\n",
        "      print(f'clicking {(x,y)}')\n",
        "      g.click(x, y)\n",
        "      should_break = True\n",
        "      break\n",
        "\n",
        "g.print_board()"
      ],
      "metadata": {
        "colab": {
          "base_uri": "https://localhost:8080/",
          "height": 1000
        },
        "id": "8Ll9dYxT-BM0",
        "outputId": "3a33c461-1e28-4232-be3d-8b93f46a1f82"
      },
      "execution_count": 149,
      "outputs": [
        {
          "output_type": "stream",
          "name": "stdout",
          "text": [
            "################# BOARD #################\n",
            "                1 🟩🟩🟩🟩🟩🟩🟩🟩🟩🟩🟩|\n",
            "      1 1 1     1 🟩🟩🟩🟩🟩🟩🟩🟩🟩🟩🟩|\n",
            "      1 🟩1     1 2 🟩🟩🟩🟩🟩🟩🟩🟩🟩🟩|\n",
            "  1 1 2 1 1       2 🟩🟩🟩🟩🟩🟩🟩🟩🟩🟩|\n",
            "  1 🟩1           1 🟩🟩🟩🟩🟩🟩🟩🟩🟩🟩|\n",
            "  1 1 1         1 2 🟩🟩🟩🟩🟩🟩1 1 2 🟩|\n",
            "            1 1 2 🟩🟩🟩🟩🟩🟩1 1   1 1 |\n",
            "            1 🟩2 1 1 1 1 2 🟩1         |\n",
            "  1 1 1 1 1 2 1 1         1 🟩1         |\n",
            "  1 🟩🟩🟩🟩🟩1           1 1 1         |\n",
            "  2 🟩2 1 2 🟩1                         |\n",
            "  1 🟩1   1 1 1                         |\n",
            "  1 1 1           1 1 1                 |\n",
            "                  1 🟩1                 |\n",
            "                1 2 2 1                 |\n",
            "        1 1 1   1 🟩1                   |\n",
            "        1 🟩1   2 🟩2   1 1 1           |\n",
            "        1 1 1   1 🟩1   1 🟩1           |\n",
            "                1 1 1   1 1 1           |\n",
            "                                        |\n",
            "\n"
          ]
        },
        {
          "output_type": "display_data",
          "data": {
            "text/plain": [
              "<Figure size 800x400 with 2 Axes>"
            ],
            "image/png": "[encoded data removed]"
          },
          "metadata": {}
        },
        {
          "output_type": "stream",
          "name": "stdout",
          "text": [
            "clicking (0, 9)\n",
            "################# BOARD #################\n",
            "                1 2 🟩🟩🟩🟩🟩🟩🟩🟩🟩🟩|\n",
            "      1 1 1     1 🟩🟩🟩🟩🟩🟩🟩🟩🟩🟩🟩|\n",
            "      1 🟩1     1 2 🟩🟩🟩🟩🟩🟩🟩🟩🟩🟩|\n",
            "  1 1 2 1 1       2 🟩🟩🟩🟩🟩🟩🟩🟩🟩🟩|\n",
            "  1 🟩1           1 🟩🟩🟩🟩🟩🟩🟩🟩🟩🟩|\n",
            "  1 1 1         1 2 🟩🟩🟩🟩🟩🟩1 1 2 🟩|\n",
            "            1 1 2 🟩🟩🟩🟩🟩🟩1 1   1 1 |\n",
            "            1 🟩2 1 1 1 1 2 🟩1         |\n",
            "  1 1 1 1 1 2 1 1         1 🟩1         |\n",
            "  1 🟩🟩🟩🟩🟩1           1 1 1         |\n",
            "  2 🟩2 1 2 🟩1                         |\n",
            "  1 🟩1   1 1 1                         |\n",
            "  1 1 1           1 1 1                 |\n",
            "                  1 🟩1                 |\n",
            "                1 2 2 1                 |\n",
            "        1 1 1   1 🟩1                   |\n",
            "        1 🟩1   2 🟩2   1 1 1           |\n",
            "        1 1 1   1 🟩1   1 🟩1           |\n",
            "                1 1 1   1 1 1           |\n",
            "                                        |\n"
          ]
        }
      ]
    },
    {
      "cell_type": "markdown",
      "source": [
        "# play game and generate test data"
      ],
      "metadata": {
        "id": "IQ_01RM3eS2h"
      }
    },
    {
      "cell_type": "code",
      "source": [
        "N = 20\n",
        "g = Game(N=N, n_bombs=25, seed = 2252)\n",
        "game_over = g.click(5,5)\n",
        "g.print_board()\n",
        "\n",
        "input, output = g.get_input_output_representation()\n",
        "\n",
        "rgb_image = np.zeros((input.shape[0], input.shape[1], 3), dtype=np.uint8)\n",
        "rgb_image[:, :, 0] = 100 * input[:, :, 0]  # Values\n",
        "rgb_image[:, :, 2] = 255 * input[:, :, 1]  # Known\n",
        "\n",
        "# Display the RGB image\n",
        "plt.imshow(rgb_image)\n",
        "plt.axis('off')  # Hide axis ticks and labels\n",
        "plt.show()\n",
        "\n",
        "plt.imshow(1-output, cmap='gray')\n",
        "plt.axis('off')\n",
        "plt.show()\n",
        "\n",
        "g.safe_next_click()\n",
        "\n",
        "input, output = g.get_input_output_representation()\n",
        "\n",
        "rgb_image = np.zeros((input.shape[0], input.shape[1], 3), dtype=np.uint8)\n",
        "rgb_image[:, :, 0] = 100 * input[:, :, 0]  # Values\n",
        "rgb_image[:, :, 2] = 255 * input[:, :, 1]  # Known\n",
        "\n",
        "# Display the RGB image\n",
        "plt.imshow(rgb_image)\n",
        "plt.axis('off')  # Hide axis ticks and labels\n",
        "plt.show()\n",
        "\n",
        "plt.imshow(1-output, cmap='gray')\n",
        "plt.axis('off')\n",
        "plt.show()\n",
        "\n"
      ],
      "metadata": {
        "colab": {
          "base_uri": "https://localhost:8080/",
          "height": 1000
        },
        "id": "Yt3Np-YZebl9",
        "outputId": "924af8bc-b17c-4a8b-d471-d7f4c20c3cb0"
      },
      "execution_count": 152,
      "outputs": [
        {
          "output_type": "stream",
          "name": "stdout",
          "text": [
            "################# BOARD #################\n",
            "                1 🟩🟩🟩🟩🟩🟩🟩🟩🟩🟩🟩|\n",
            "      1 1 1     1 🟩🟩🟩🟩🟩🟩🟩🟩🟩🟩🟩|\n",
            "      1 🟩1     1 2 🟩🟩🟩🟩🟩🟩🟩🟩🟩🟩|\n",
            "  1 1 2 1 1       2 🟩🟩🟩🟩🟩🟩🟩🟩🟩🟩|\n",
            "  1 🟩1           1 🟩🟩🟩🟩🟩🟩🟩🟩🟩🟩|\n",
            "  1 1 1         1 2 🟩🟩🟩🟩🟩🟩1 1 2 🟩|\n",
            "            1 1 2 🟩🟩🟩🟩🟩🟩1 1   1 1 |\n",
            "            1 🟩2 1 1 1 1 2 🟩1         |\n",
            "  1 1 1 1 1 2 1 1         1 🟩1         |\n",
            "  1 🟩🟩🟩🟩🟩1           1 1 1         |\n",
            "  2 🟩2 1 2 🟩1                         |\n",
            "  1 🟩1   1 1 1                         |\n",
            "  1 1 1           1 1 1                 |\n",
            "                  1 🟩1                 |\n",
            "                1 2 2 1                 |\n",
            "        1 1 1   1 🟩1                   |\n",
            "        1 🟩1   2 🟩2   1 1 1           |\n",
            "        1 1 1   1 🟩1   1 🟩1           |\n",
            "                1 1 1   1 1 1           |\n",
            "                                        |\n"
          ]
        },
        {
          "output_type": "display_data",
          "data": {
            "text/plain": [
              "<Figure size 640x480 with 1 Axes>"
            ],
            "image/png": "[encoded data removed]"
          },
          "metadata": {}
        },
        {
          "output_type": "display_data",
          "data": {
            "text/plain": [
              "<Figure size 640x480 with 1 Axes>"
            ],
            "image/png": "[encoded data removed]"
          },
          "metadata": {}
        },
        {
          "output_type": "display_data",
          "data": {
            "text/plain": [
              "<Figure size 640x480 with 1 Axes>"
            ],
            "image/png": "[encoded data removed]"
          },
          "metadata": {}
        },
        {
          "output_type": "display_data",
          "data": {
            "text/plain": [
              "<Figure size 640x480 with 1 Axes>"
            ],
            "image/png": "[encoded data removed]"
          },
          "metadata": {}
        }
      ]
    }
  ]
}